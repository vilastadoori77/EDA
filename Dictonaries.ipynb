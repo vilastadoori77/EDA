{
 "cells": [
  {
   "cell_type": "markdown",
   "metadata": {},
   "source": [
    "### Dictonaries in Python as a Part of Datascience\n",
    "#### Dictonaries are denoted by a pair of curly braces as { } and represent a key and value pair\n",
    "#### They are mutable pairs."
   ]
  },
  {
   "cell_type": "code",
   "execution_count": 3,
   "metadata": {},
   "outputs": [
    {
     "name": "stdout",
     "output_type": "stream",
     "text": [
      "{}\n"
     ]
    }
   ],
   "source": [
    "example_dic = {}\n",
    "print(example_dic)"
   ]
  },
  {
   "cell_type": "code",
   "execution_count": 8,
   "metadata": {},
   "outputs": [
    {
     "name": "stdout",
     "output_type": "stream",
     "text": [
      "{'name': 'SRT', 'age': 45, 'height': '5Feet, 5 Inches', 'hobby': 'Music'}\n"
     ]
    }
   ],
   "source": [
    "employee_dic ={'name':'SRT', 'age':45, 'height':'5Feet, 5 Inches', 'hobby':'Music' }\n",
    "print(employee_dic)"
   ]
  },
  {
   "cell_type": "code",
   "execution_count": 9,
   "metadata": {},
   "outputs": [
    {
     "name": "stdout",
     "output_type": "stream",
     "text": [
      "Music\n"
     ]
    }
   ],
   "source": [
    "print(employee_dic['hobby'])"
   ]
  },
  {
   "cell_type": "code",
   "execution_count": 10,
   "metadata": {},
   "outputs": [
    {
     "name": "stdout",
     "output_type": "stream",
     "text": [
      "45\n"
     ]
    }
   ],
   "source": [
    "print(employee_dic.get('age'))"
   ]
  },
  {
   "cell_type": "code",
   "execution_count": 11,
   "metadata": {},
   "outputs": [
    {
     "name": "stdout",
     "output_type": "stream",
     "text": [
      "NA\n"
     ]
    }
   ],
   "source": [
    "answer = employee_dic.get('Label', 'NA')\n",
    "print(answer)"
   ]
  },
  {
   "cell_type": "markdown",
   "metadata": {},
   "source": [
    "#### Assign values to the key in dict"
   ]
  },
  {
   "cell_type": "code",
   "execution_count": 14,
   "metadata": {},
   "outputs": [
    {
     "name": "stdout",
     "output_type": "stream",
     "text": [
      "{'name': 'ZAK', 'age': 40, 'height': 'Six feet', 'hobby': 'Long Drives'}\n"
     ]
    }
   ],
   "source": [
    "employee_dic['name']='ZAK'\n",
    "employee_dic['age']=40\n",
    "employee_dic['height']='Six feet'\n",
    "employee_dic['hobby']='Long Drives'\n",
    "print(employee_dic)"
   ]
  },
  {
   "cell_type": "code",
   "execution_count": 61,
   "metadata": {},
   "outputs": [
    {
     "name": "stdout",
     "output_type": "stream",
     "text": [
      "Six feet\n"
     ]
    }
   ],
   "source": [
    "print(employee_dic['height'])"
   ]
  },
  {
   "cell_type": "code",
   "execution_count": 16,
   "metadata": {},
   "outputs": [],
   "source": [
    "employee_dic['profession']='Fast Bowler'"
   ]
  },
  {
   "cell_type": "markdown",
   "metadata": {},
   "source": [
    "<i> For the presence of the key </i>"
   ]
  },
  {
   "cell_type": "code",
   "execution_count": 17,
   "metadata": {},
   "outputs": [
    {
     "name": "stdout",
     "output_type": "stream",
     "text": [
      "True\n"
     ]
    }
   ],
   "source": [
    "print('profession' in employee_dic)"
   ]
  },
  {
   "cell_type": "markdown",
   "metadata": {},
   "source": [
    "<i><b> Get list of keys and Values </b> </i>"
   ]
  },
  {
   "cell_type": "code",
   "execution_count": 21,
   "metadata": {},
   "outputs": [
    {
     "name": "stdout",
     "output_type": "stream",
     "text": [
      "['name', 'age', 'height', 'hobby', 'profession']\n"
     ]
    }
   ],
   "source": [
    "keys_in_emp_dict= list(employee_dic.keys())\n",
    "print(keys_in_emp_dict)"
   ]
  },
  {
   "cell_type": "code",
   "execution_count": 22,
   "metadata": {},
   "outputs": [
    {
     "name": "stdout",
     "output_type": "stream",
     "text": [
      "['ZAK', 40, 'Six feet', 'Long Drives', 'Fast Bowler']\n"
     ]
    }
   ],
   "source": [
    "values_in_emp_dict = list(employee_dic.values())\n",
    "print(values_in_emp_dict)"
   ]
  },
  {
   "cell_type": "markdown",
   "metadata": {},
   "source": [
    "### Creating new Dictonaries and Deleting the key / value pairs"
   ]
  },
  {
   "cell_type": "code",
   "execution_count": 38,
   "metadata": {},
   "outputs": [
    {
     "name": "stdout",
     "output_type": "stream",
     "text": [
      "{'Country': 'Jamaica', 'Songs': ['Misty', 'Lonely Place']}\n",
      "{'name': 'ZAK', 'age': 40, 'height': 'Six feet', 'hobby': 'Long Drives', 'profession': 'Fast Bowler', 'Country': 'Jamaica', 'Songs': ['Misty', 'Lonely Place']}\n",
      "['Misty', 'Lonely Place']\n",
      "{'name': 'ZAK', 'age': 40, 'height': 'Six feet', 'hobby': 'Long Drives', 'profession': 'Fast Bowler', 'Country': 'Jamaica'}\n"
     ]
    }
   ],
   "source": [
    "new_dict = dict(Country='Jamaica', Songs=['Misty', 'Lonely Place'])\n",
    "print(new_dict)\n",
    "employee_dic.update(new_dict)\n",
    "print(employee_dic)\n",
    "\n",
    "print(employee_dic['Songs'])\n",
    "\n",
    "del employee_dic['Songs']\n",
    "print(employee_dic)\n",
    "\n",
    "#new_songs = new_dict.get('Songs','NA')\n",
    "#print(new_songs)\n",
    "#all_songs_str = \" \".join(new_songs)\n",
    "#print(all_songs_str)"
   ]
  },
  {
   "cell_type": "code",
   "execution_count": 39,
   "metadata": {},
   "outputs": [
    {
     "name": "stdout",
     "output_type": "stream",
     "text": [
      "6\n"
     ]
    }
   ],
   "source": [
    "print(len(employee_dic))"
   ]
  },
  {
   "cell_type": "markdown",
   "metadata": {},
   "source": [
    "<h2> Creating the student data structure </h2>"
   ]
  },
  {
   "cell_type": "code",
   "execution_count": 51,
   "metadata": {},
   "outputs": [
    {
     "name": "stdout",
     "output_type": "stream",
     "text": [
      "{1: ['Shivam Dube', 25], 2: ['Rashmika', 20], 3: ['John Abraham', 45]}\n",
      "[['Shivam Dube', 25], ['Rashmika', 20], ['John Abraham', 45]]\n"
     ]
    }
   ],
   "source": [
    "students_bio_data = { 1:['Shivam Dube', 25], 2:['Rashmika', 20], 3:['John Abraham', 45]}\n",
    "print(students_bio_data)\n",
    "print(list(students_bio_data.values()))"
   ]
  },
  {
   "cell_type": "code",
   "execution_count": 50,
   "metadata": {},
   "outputs": [
    {
     "name": "stdout",
     "output_type": "stream",
     "text": [
      "3\n"
     ]
    }
   ],
   "source": [
    "length = len(students_bio_data)\n",
    "print(length)"
   ]
  },
  {
   "cell_type": "markdown",
   "metadata": {},
   "source": [
    "### Get a specific record from the students list"
   ]
  },
  {
   "cell_type": "code",
   "execution_count": 54,
   "metadata": {},
   "outputs": [
    {
     "data": {
      "text/plain": [
       "['John Abraham', 45]"
      ]
     },
     "execution_count": 54,
     "metadata": {},
     "output_type": "execute_result"
    }
   ],
   "source": [
    "students_bio_data[3]"
   ]
  },
  {
   "cell_type": "markdown",
   "metadata": {},
   "source": [
    "### Get all the keys"
   ]
  },
  {
   "cell_type": "code",
   "execution_count": 56,
   "metadata": {},
   "outputs": [
    {
     "name": "stdout",
     "output_type": "stream",
     "text": [
      "[1, 2, 3]\n"
     ]
    }
   ],
   "source": [
    "keys = students_bio_data.keys()\n",
    "print(list(keys))"
   ]
  },
  {
   "cell_type": "markdown",
   "metadata": {},
   "source": [
    "### Get All the Values from the data set"
   ]
  },
  {
   "cell_type": "code",
   "execution_count": 57,
   "metadata": {},
   "outputs": [
    {
     "name": "stdout",
     "output_type": "stream",
     "text": [
      "[['Shivam Dube', 25], ['Rashmika', 20], ['John Abraham', 45]]\n"
     ]
    }
   ],
   "source": [
    "values = students_bio_data.values()\n",
    "print(list(values))"
   ]
  },
  {
   "cell_type": "code",
   "execution_count": 62,
   "metadata": {},
   "outputs": [
    {
     "name": "stdout",
     "output_type": "stream",
     "text": [
      "Apple\n"
     ]
    }
   ],
   "source": [
    "input_dict = {'Jack Dorsey' : 'Twitter' , 'Tim Cook' : 'Apple','Jeff Bezos' : 'Amazon' ,'Mukesh Ambani' : 'RJIO'}\n",
    "print(input_dict.get('Tim Cook'))"
   ]
  }
 ],
 "metadata": {
  "kernelspec": {
   "display_name": "Python 3",
   "language": "python",
   "name": "python3"
  },
  "language_info": {
   "codemirror_mode": {
    "name": "ipython",
    "version": 3
   },
   "file_extension": ".py",
   "mimetype": "text/x-python",
   "name": "python",
   "nbconvert_exporter": "python",
   "pygments_lexer": "ipython3",
   "version": "3.7.3"
  }
 },
 "nbformat": 4,
 "nbformat_minor": 2
}
