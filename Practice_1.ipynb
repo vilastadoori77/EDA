{
 "cells": [
  {
   "cell_type": "code",
   "execution_count": 3,
   "metadata": {},
   "outputs": [
    {
     "name": "stdout",
     "output_type": "stream",
     "text": [
      "4\n"
     ]
    }
   ],
   "source": [
    "import ast,sys\n",
    "import numpy as np\n",
    "\n",
    "def find_nearest(array, value):\n",
    "    array = np.asarray(array)\n",
    "    idx = (np.abs(array - value)).argmin()\n",
    "    return array[idx]\n",
    "\n",
    "array1=[1,2,3,4,5,6,7,8,9] #the input array\n",
    "n=3.75 #the number to look for\n",
    "\n",
    "value = find_nearest(array1,n)\n",
    "print(value)"
   ]
  },
  {
   "cell_type": "code",
   "execution_count": 13,
   "metadata": {},
   "outputs": [
    {
     "name": "stdout",
     "output_type": "stream",
     "text": [
      "[3, 5, 1, 7, 3, 9, 3, 1]\n"
     ]
    }
   ],
   "source": [
    "list1 = [2,3,5,8,1,2,7,3,9,0,3,1]\n",
    "\n",
    "array = np.array(list1)\n",
    "\n",
    "def remove_even(ar):\n",
    "    return [e for e in array if e%2]\n",
    "\n",
    "value_1 = remove_even(array)\n",
    "print(value_1)\n",
    "            \n"
   ]
  },
  {
   "cell_type": "code",
   "execution_count": 15,
   "metadata": {},
   "outputs": [
    {
     "name": "stdout",
     "output_type": "stream",
     "text": [
      "[3, 5, 1, 7, 3, 9, 3, 1]\n"
     ]
    }
   ],
   "source": [
    "input_list= [2,3,5,8,1,2,7,3,9,0,3,1]\n",
    "array=np.array(input_list)\n",
    "\n",
    "filtered_list = list(filter(lambda x: x%2, array))\n",
    "print(filtered_list)"
   ]
  },
  {
   "cell_type": "code",
   "execution_count": 36,
   "metadata": {},
   "outputs": [
    {
     "name": "stdout",
     "output_type": "stream",
     "text": [
      "9\n",
      "1\n"
     ]
    }
   ],
   "source": [
    "\n",
    "string = \"str1ngs.num\"\n",
    "alpahbet=digit=0\n",
    "\n",
    "for i in range(len(string)):\n",
    "    if(string[i].isalpha()):\n",
    "        alpahbet += 1\n",
    "    elif(string[i].isdigit()):\n",
    "        digit+=1\n",
    "\n",
    "print(alpahbet)\n",
    "print(digit)\n",
    "        \n",
    "    "
   ]
  },
  {
   "cell_type": "code",
   "execution_count": 35,
   "metadata": {},
   "outputs": [
    {
     "name": "stdout",
     "output_type": "stream",
     "text": [
      "\n",
      "Total Number of Alphabets in this String :   9\n",
      "Total Number of Digits in this String :   1\n",
      "Total Number of Special Characters in this String :   0\n"
     ]
    }
   ],
   "source": [
    "# Python program to Count Alphabets Digits and Special Characters in a String\n",
    " \n",
    "string = \"str1ngs.num\"\n",
    "alphabets = digits = special = 0\n",
    "\n",
    "for i in range(len(string)):\n",
    "    if(string[i].isalpha()):\n",
    "        alphabets = alphabets + 1\n",
    "    elif(string[i].isdigit()):\n",
    "        digits = digits + 1\n",
    "\n",
    "        \n",
    "print(\"\\nTotal Number of Alphabets in this String :  \", alphabets)\n",
    "print(\"Total Number of Digits in this String :  \", digits)\n",
    "print(\"Total Number of Special Characters in this String :  \", special)"
   ]
  },
  {
   "cell_type": "code",
   "execution_count": 38,
   "metadata": {},
   "outputs": [
    {
     "name": "stdout",
     "output_type": "stream",
     "text": [
      "iAmaKsHAY\n"
     ]
    }
   ],
   "source": [
    "import pandas as pd\n",
    "string = \"IaMAkShay\"\n",
    "\n",
    "print(string.swapcase())\n"
   ]
  },
  {
   "cell_type": "code",
   "execution_count": 40,
   "metadata": {},
   "outputs": [
    {
     "name": "stdout",
     "output_type": "stream",
     "text": [
      "[2, 7]\n"
     ]
    }
   ],
   "source": [
    "\n",
    "\n",
    "input_list = [3,8,99,9,7,4,3,77,0,2,3,4,5]\n",
    "#write your code here\n",
    "ser = pd.Series(input_list)\n",
    "dd = np.diff(np.sign(np.diff(ser)))\n",
    "#peak_locs = np.where(dd == -2)[0] + 1\n",
    "maximas=  np.where(dd == -2)[0] + 1\n",
    "maximas=[int(x) for x in maximas] #do not change this code, the output should be an integer list for evaluation purposes\n",
    "print(maximas)"
   ]
  },
  {
   "cell_type": "markdown",
   "metadata": {},
   "source": [
    "# List Comprehensions: Is a pythonic way of expressing a ‘for-loop’ that appends to a list in a single line of code. \n",
    "[[output_value] for(i in iterable) if condition]\n",
    "\n"
   ]
  },
  {
   "cell_type": "code",
   "execution_count": 41,
   "metadata": {},
   "outputs": [
    {
     "name": "stdout",
     "output_type": "stream",
     "text": [
      "[0, 2, 4, 6, 8]\n"
     ]
    }
   ],
   "source": [
    "# Create a list of even numbers from 1 to 10\n",
    "\n",
    "list_test = [e for e in range(10) if e%2==0]\n",
    "print(list_test)"
   ]
  },
  {
   "cell_type": "code",
   "execution_count": 43,
   "metadata": {},
   "outputs": [
    {
     "name": "stdout",
     "output_type": "stream",
     "text": [
      "[1, 4, 9, 16, 25]\n"
     ]
    }
   ],
   "source": [
    "# power the value in the list\n",
    "\n",
    "my_list =[1,2,3,4,5]\n",
    "list_double = [i**2 for i in my_list ]\n",
    "print(list_double)"
   ]
  },
  {
   "cell_type": "code",
   "execution_count": 47,
   "metadata": {},
   "outputs": [
    {
     "name": "stdout",
     "output_type": "stream",
     "text": [
      "[4, 16, 36]\n"
     ]
    }
   ],
   "source": [
    "# power with an if condition\n",
    "my_list_1 = [1,2,3,4,5,6]\n",
    "selected_list = [ i**2 for i in my_list_1 if i%2==0]\n",
    "print(selected_list)"
   ]
  },
  {
   "cell_type": "code",
   "execution_count": 49,
   "metadata": {},
   "outputs": [
    {
     "name": "stdout",
     "output_type": "stream",
     "text": [
      "[1, 4, 27, 16, 125, 36]\n"
     ]
    }
   ],
   "source": [
    "# power and cube with if condition\n",
    "my_list_2=[1,2,3,4,5,6]\n",
    "selected_list_1=[i**2 if i%2==0 else i**3 for i in my_list_2]\n",
    "print(selected_list_1)"
   ]
  },
  {
   "cell_type": "code",
   "execution_count": 52,
   "metadata": {},
   "outputs": [
    {
     "name": "stdout",
     "output_type": "stream",
     "text": [
      "[2, 4, 6, 8, 10, 12, 14, 16]\n"
     ]
    }
   ],
   "source": [
    "# multiple for loops\n",
    "mat =[[1,2,3,4],[5,6,7,8],[9,10,11,12],[13,14,15,16]]\n",
    "result = [i for row in mat for i in row if i%2==0]\n",
    "print(result)"
   ]
  },
  {
   "cell_type": "code",
   "execution_count": 55,
   "metadata": {},
   "outputs": [
    {
     "name": "stdout",
     "output_type": "stream",
     "text": [
      "[(6, 2), (4, 8), (6, 2), (1, 3), (2, 7), (2, 7)]\n"
     ]
    }
   ],
   "source": [
    "mylist_1=[9,3,6,1,5,0,8,2,4,7]\n",
    "list_b=[6,4,6,1,2,2]\n",
    "check_list = [(i,mylist_1.index(i)) for i in list_b]\n",
    "print(check_list)"
   ]
  },
  {
   "cell_type": "code",
   "execution_count": 56,
   "metadata": {},
   "outputs": [
    {
     "name": "stdout",
     "output_type": "stream",
     "text": [
      "[{6: 2}, {4: 8}, {6: 2}, {1: 3}, {2: 7}, {2: 7}]\n"
     ]
    }
   ],
   "source": [
    "mylist_2=[9,3,6,1,5,0,8,2,4,7]\n",
    "list_c=[6,4,6,1,2,2]\n",
    "check_list_1 = [{i:mylist_2.index(i)} for i in list_c]\n",
    "print(check_list_1)"
   ]
  },
  {
   "cell_type": "code",
   "execution_count": 58,
   "metadata": {},
   "outputs": [
    {
     "name": "stdout",
     "output_type": "stream",
     "text": [
      "['new', 'world', 'record', 'was', 'set', 'holy', 'city', 'ayodhya', 'eve', 'diwali', 'tuesday', 'over', 'three', 'lakh', 'diya', 'or', 'earthen', 'lamps', 'lit', 'up', 'banks', 'sarayu', 'river']\n"
     ]
    }
   ],
   "source": [
    "sentences =[\"a new world record was set\",\n",
    "           \"in the holy city of ayodhya\",\n",
    "           \"on the eve of diwali on tuesday\",\n",
    "           \"with over three lakh diya or earthen lamps\",\n",
    "           \"lit up on the banks of sarayu river\"]\n",
    "\n",
    "stopwords =['for','a','of','the','and','to','in','on','with']\n",
    "\n",
    "\n",
    "no_stopover_words =[ word for sentence in sentences for word in sentence.split(' ') if word not in stopwords]\n",
    "print(no_stopover_words)"
   ]
  },
  {
   "cell_type": "code",
   "execution_count": 60,
   "metadata": {},
   "outputs": [
    {
     "name": "stdout",
     "output_type": "stream",
     "text": [
      "[1, 2, -3, -4, -5, -6, -7, -8, 9, 10]\n"
     ]
    }
   ],
   "source": [
    "mylist = [1, 2, 3, 4, 5, 6, 7, 8, 9, 10]\n",
    "\n",
    "my_desired = [-i if 3<=i<=8 else i for i in mylist]\n",
    "print(my_desired)"
   ]
  },
  {
   "cell_type": "code",
   "execution_count": 64,
   "metadata": {},
   "outputs": [
    {
     "name": "stdout",
     "output_type": "stream",
     "text": [
      "{'a': 0, 'b': 1, 'c': 2, 'd': 3, 'e': 4, 'f': 5, 'g': 6, 'h': 7, 'i': 8, 'j': 9, 'k': 10, 'l': 11, 'm': 12, 'n': 13, 'o': 14, 'p': 15, 'q': 16, 'r': 17, 's': 18, 't': 19, 'u': 20, 'v': 21, 'w': 22, 'x': 23, 'y': 24, 'z': 25}\n"
     ]
    }
   ],
   "source": [
    "import string\n",
    "\n",
    "check = {a:i+1 for a,i in zip(string.ascii_letters[:26], range(26))}\n",
    "print(check)"
   ]
  },
  {
   "cell_type": "code",
   "execution_count": 69,
   "metadata": {},
   "outputs": [
    {
     "data": {
      "text/plain": [
       "[{'a': 1},\n",
       " {'b': 2},\n",
       " {'c': 3},\n",
       " {'d': 4},\n",
       " {'e': 5},\n",
       " {'f': 6},\n",
       " {'g': 7},\n",
       " {'h': 8},\n",
       " {'i': 9},\n",
       " {'j': 10},\n",
       " {'k': 11},\n",
       " {'l': 12},\n",
       " {'m': 13},\n",
       " {'n': 14},\n",
       " {'o': 15},\n",
       " {'p': 16},\n",
       " {'q': 17},\n",
       " {'r': 18},\n",
       " {'s': 19},\n",
       " {'t': 20},\n",
       " {'u': 21},\n",
       " {'v': 22},\n",
       " {'w': 23},\n",
       " {'x': 24},\n",
       " {'y': 25},\n",
       " {'z': 26}]"
      ]
     },
     "execution_count": 69,
     "metadata": {},
     "output_type": "execute_result"
    }
   ],
   "source": [
    "check = [{val:i+1} for val,i in zip(string.ascii_letters[:26], range(26))]\n",
    "check"
   ]
  },
  {
   "cell_type": "code",
   "execution_count": 81,
   "metadata": {},
   "outputs": [
    {
     "name": "stdout",
     "output_type": "stream",
     "text": [
      "[12, 5, 5, ' ', 17, 21, 1, 14, ' ', 25, 5, 23]\n"
     ]
    }
   ],
   "source": [
    "import string\n",
    "\n",
    "d = {val:i+1 for val, i in zip(string.ascii_letters[:26], range(26))}\n",
    "d = [d.get(i.lower(),' ') for i in 'Lee Quan Yew']\n",
    "print(d)"
   ]
  },
  {
   "cell_type": "code",
   "execution_count": 83,
   "metadata": {},
   "outputs": [
    {
     "name": "stdout",
     "output_type": "stream",
     "text": [
      "['the', 'hubble', 'space', 'telescope', 'has', 'spotted', 'formation', 'galaxies', 'that', 'resembles', 'smiling', 'face', 'sky']\n"
     ]
    }
   ],
   "source": [
    "sentences = [\"The Hubble Space telescope has spotted\", \n",
    "             \"a formation of galaxies that resembles\", \n",
    "             \"a smiling face in the sky\"]\n",
    "\n",
    "stopwords = ['for', 'a', 'of', 'the', 'and', 'to', 'in', 'on', 'with']\n",
    "\n",
    "withOut_stopwords = [word.lower() for sentence in sentences for word in sentence.split(' ') if word not in stopwords]\n",
    "print(withOut_stopwords)"
   ]
  },
  {
   "cell_type": "code",
   "execution_count": 85,
   "metadata": {},
   "outputs": [
    {
     "name": "stdout",
     "output_type": "stream",
     "text": [
      "[('the', 0), ('hubble', 0), ('space', 0), ('telescope', 0), ('has', 0), ('spotted', 0), ('formation', 1), ('galaxies', 1), ('that', 1), ('resembles', 1), ('smiling', 2), ('face', 2), ('sky', 2)]\n"
     ]
    }
   ],
   "source": [
    "sentences = [\"The Hubble Space telescope has spotted\", \n",
    "             \"a formation of galaxies that resembles\", \n",
    "             \"a smiling face in the sky\"]\n",
    "\n",
    "stopwords = ['for', 'a', 'of', 'the', 'and', 'to', 'in', 'on', 'with']\n",
    "\n",
    "withOut_stopwords = [(word.lower(),i) for i,sentence in enumerate(sentences) for word in sentence.split(' ') if word not in stopwords]\n",
    "print(withOut_stopwords)"
   ]
  }
 ],
 "metadata": {
  "kernelspec": {
   "display_name": "Python 3",
   "language": "python",
   "name": "python3"
  },
  "language_info": {
   "codemirror_mode": {
    "name": "ipython",
    "version": 3
   },
   "file_extension": ".py",
   "mimetype": "text/x-python",
   "name": "python",
   "nbconvert_exporter": "python",
   "pygments_lexer": "ipython3",
   "version": "3.7.3"
  }
 },
 "nbformat": 4,
 "nbformat_minor": 2
}
