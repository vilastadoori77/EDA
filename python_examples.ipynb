{
 "cells": [
  {
   "cell_type": "code",
   "execution_count": 11,
   "metadata": {},
   "outputs": [
    {
     "name": "stdout",
     "output_type": "stream",
     "text": [
      "in range\n",
      "in range\n",
      "out of range\n"
     ]
    }
   ],
   "source": [
    "i =0\n",
    "j=0\n",
    "list_1=[10,12,13,18,20]\n",
    "largest =0\n",
    "while i<2:\n",
    "    i+=1\n",
    "    for num in list_1:\n",
    "        if(num>largest):\n",
    "            largest=num\n",
    "  \n",
    "    j=i\n",
    "\n",
    "\n",
    "if(j==2):\n",
    "    print('out of range')\n",
    "    \n",
    "\n",
    "\n"
   ]
  },
  {
   "cell_type": "code",
   "execution_count": 17,
   "metadata": {},
   "outputs": [
    {
     "name": "stdout",
     "output_type": "stream",
     "text": [
      "the second largest number is 0\n"
     ]
    }
   ],
   "source": [
    "\n",
    "    \n",
    "    "
   ]
  },
  {
   "cell_type": "code",
   "execution_count": 16,
   "metadata": {},
   "outputs": [
    {
     "name": "stdout",
     "output_type": "stream",
     "text": [
      "18\n"
     ]
    }
   ],
   "source": [
    "numbers=[10,12,13,18,20]\n",
    "def second_largest(numbers):\n",
    "    first, second = 0, 0\n",
    "    for n in numbers:\n",
    "        if n > first:\n",
    "            first, second = n, first\n",
    "        elif first > n > second:\n",
    "            second = n\n",
    "    return second\n",
    "\n",
    "second_biggest = second_largest(numbers)\n",
    "print(second_biggest)"
   ]
  },
  {
   "cell_type": "code",
   "execution_count": 23,
   "metadata": {},
   "outputs": [
    {
     "data": {
      "text/plain": [
       "8.366600265340756"
      ]
     },
     "execution_count": 23,
     "metadata": {},
     "output_type": "execute_result"
    }
   ],
   "source": [
    "math.sqrt(11)\n",
    "\n",
    "math.sqrt(70)"
   ]
  },
  {
   "cell_type": "markdown",
   "metadata": {},
   "source": [
    "import math\n",
    "math.log(40)"
   ]
  },
  {
   "cell_type": "code",
   "execution_count": 31,
   "metadata": {},
   "outputs": [
    {
     "name": "stdout",
     "output_type": "stream",
     "text": [
      "3\n"
     ]
    }
   ],
   "source": [
    "def sqrt(x):\n",
    "    if (x < 2):\n",
    "        return x\n",
    "    result = 0\n",
    "\n",
    "#square root of x cannot be more than x/2 for x > 1\n",
    "    start = 1\n",
    "    end = x/2\n",
    "    while (start <= end):\n",
    "        #find mid element\n",
    "        mid = (start + end) / 2\n",
    "        sqr = mid*mid\n",
    "        #return mid if x is a perfect square\n",
    "        if (sqr == x):\n",
    "            return mid\n",
    "        #if (mid*mid is less than x\n",
    "        elif (sqr < x):\n",
    "            #discard left search space\n",
    "            start = mid + 1\n",
    "            #update result since we need floor\n",
    "            result = mid\n",
    "            #if mid*mid is more than x\n",
    "        else:\n",
    "            end = mid - 1\n",
    "    return result\n",
    "\n",
    "result_test = sqrt(11)\n",
    "print(math.floor(result_test))\n"
   ]
  }
 ],
 "metadata": {
  "kernelspec": {
   "display_name": "Python 3",
   "language": "python",
   "name": "python3"
  },
  "language_info": {
   "codemirror_mode": {
    "name": "ipython",
    "version": 3
   },
   "file_extension": ".py",
   "mimetype": "text/x-python",
   "name": "python",
   "nbconvert_exporter": "python",
   "pygments_lexer": "ipython3",
   "version": "3.7.3"
  }
 },
 "nbformat": 4,
 "nbformat_minor": 2
}
