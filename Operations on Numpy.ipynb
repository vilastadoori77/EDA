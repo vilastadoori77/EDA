{
 "cells": [
  {
   "cell_type": "markdown",
   "metadata": {},
   "source": [
    "<h2>Manipulate arrays</h2>\n",
    "    <ul>\n",
    "        <li>Reshape arrays</li>\n",
    "        <li>Stack arrays</li>\n",
    "    </ul>\n",
    "    \n",
    "    \n",
    "<h2>Perform operations on arrays</h2>\n",
    "<ul>\n",
    "    \n",
    "   <li> Perform basic mathematical operations </li>\n",
    "   <li> Apply built-in functions</li>\n",
    "   <li> Apply your own functions</li>\n",
    "   <li> Apply basic linear algebra operations</li>\n",
    "    \n",
    "</ul>\n",
    "   "
   ]
  },
  {
   "cell_type": "code",
   "execution_count": 3,
   "metadata": {},
   "outputs": [],
   "source": [
    "#Basic Operations\n",
    "#Manipulating Arrays\n",
    "#We can manipulate arrays changing the shape, combining and splitting the arrays.\n",
    "# Reshaping can be done by Stacking and Splitting the arrays - reshaping can be done by reshape() function.\n",
    "# Stacking and Splitting the Arrays\n",
    "#Stacking: np.hstack() and np.vstack()\n",
    "#Stacking is done using the np.hstack() and np.vstack() methods. \n",
    "#For horizontal stacking, the number of rows should be the same, while for vertical stacking, \n",
    "#the number of columns should be the same.\n"
   ]
  },
  {
   "cell_type": "code",
   "execution_count": 8,
   "metadata": {},
   "outputs": [
    {
     "name": "stdout",
     "output_type": "stream",
     "text": [
      "[[ 0  1  2  3]\n",
      " [ 4  5  6  7]\n",
      " [ 8  9 10 11]]\n"
     ]
    }
   ],
   "source": [
    "import numpy as nump\n",
    "\n",
    "some_array = nump.arange(0,12).reshape(3,4)\n",
    "print(some_array)"
   ]
  },
  {
   "cell_type": "code",
   "execution_count": 9,
   "metadata": {},
   "outputs": [
    {
     "name": "stdout",
     "output_type": "stream",
     "text": [
      "[[ 0  1  2  3  4  5]\n",
      " [ 6  7  8  9 10 11]]\n"
     ]
    }
   ],
   "source": [
    "# Can reshape it to further\n",
    "some_array=some_array.reshape(2,6)\n",
    "print(some_array)"
   ]
  },
  {
   "cell_type": "code",
   "execution_count": 10,
   "metadata": {},
   "outputs": [
    {
     "name": "stdout",
     "output_type": "stream",
     "text": [
      "[[ 0  1  2]\n",
      " [ 3  4  5]\n",
      " [ 6  7  8]\n",
      " [ 9 10 11]]\n"
     ]
    }
   ],
   "source": [
    "# With reshape(4, -1) we specify one dimension and let numpy figure out the other one\n",
    "\n",
    "some_array_reshape=some_array.reshape(4, -1)\n",
    "print(some_array_reshape)"
   ]
  },
  {
   "cell_type": "code",
   "execution_count": 13,
   "metadata": {},
   "outputs": [
    {
     "name": "stdout",
     "output_type": "stream",
     "text": [
      "[[ 0  3  6  9]\n",
      " [ 1  4  7 10]\n",
      " [ 2  5  8 11]]\n",
      "2\n"
     ]
    }
   ],
   "source": [
    "# Returns the array with a transpose we do with some_array_reshape.T\n",
    "\n",
    "print(some_array_reshape.T)\n",
    "print(some_array_reshape.T.ndim)"
   ]
  },
  {
   "cell_type": "code",
   "execution_count": 18,
   "metadata": {},
   "outputs": [
    {
     "name": "stdout",
     "output_type": "stream",
     "text": [
      "[[ 0  1  2  3]\n",
      " [ 4  5  6  7]\n",
      " [ 8  9 10 11]]\n",
      "\n",
      "\n",
      "[[ 0  1  2  3]\n",
      " [ 4  5  6  7]\n",
      " [ 8  9 10 11]\n",
      " [12 13 14 15]\n",
      " [16 17 18 19]]\n",
      "\n",
      "\n",
      "\n",
      "[[ 0  1  2  3]\n",
      " [ 4  5  6  7]\n",
      " [ 8  9 10 11]\n",
      " [12 13 14 15]\n",
      " [16 17 18 19]\n",
      " [ 0  1  2  3]\n",
      " [ 4  5  6  7]\n",
      " [ 8  9 10 11]]\n"
     ]
    }
   ],
   "source": [
    "# Creating two arrays where columns are same\n",
    "\n",
    "array_1 = nump.arange(12).reshape(3,4)\n",
    "array_2 = nump.arange(20).reshape(5,4)\n",
    "print(array_1)\n",
    "print(\"\\n\")\n",
    "print(array_2)\n",
    "\n",
    "print(\"\\n\\n\")\n",
    "#Vertical stack, need to pass arrays as list. The vertical stack is used when the columns are same.\n",
    "array_vstack=nump.vstack([array_2,array_1])\n",
    "print(array_vstack)\n",
    "\n"
   ]
  },
  {
   "cell_type": "code",
   "execution_count": 23,
   "metadata": {},
   "outputs": [
    {
     "name": "stdout",
     "output_type": "stream",
     "text": [
      "[[ 0  1  2]\n",
      " [ 3  4  5]\n",
      " [ 6  7  8]\n",
      " [ 9 10 11]]\n",
      "\n",
      "\n",
      "[[ 0  1  2  3  4]\n",
      " [ 5  6  7  8  9]\n",
      " [10 11 12 13 14]\n",
      " [15 16 17 18 19]]\n",
      "\n",
      "\n",
      "[[ 0  1  2  0  1  2  3  4]\n",
      " [ 3  4  5  5  6  7  8  9]\n",
      " [ 6  7  8 10 11 12 13 14]\n",
      " [ 9 10 11 15 16 17 18 19]]\n"
     ]
    }
   ],
   "source": [
    "# Horizontal stack where the columns are some\n",
    "\n",
    "array_h1 = nump.arange(12).reshape(4, 3)\n",
    "array_h2 = nump.arange(20).reshape(4, 5)\n",
    "\n",
    "print(array_h1)\n",
    "print(\"\\n\")\n",
    "print(array_h2)\n",
    "\n",
    "array_h3 = nump.hstack([array_h1, array_h2])\n",
    "\n",
    "print(\"\\n\")\n",
    "\n",
    "print(array_h3)"
   ]
  },
  {
   "cell_type": "code",
   "execution_count": 31,
   "metadata": {},
   "outputs": [
    {
     "name": "stdout",
     "output_type": "stream",
     "text": [
      "[[1, 2], [5, 6]]\n",
      "[[3, 4], [7, 8]]\n",
      "[[9, 10, 11, 12]]\n",
      "[[1 2 3 4]\n",
      " [5 6 7 8]]\n",
      "[[ 9 10 11 12]]\n",
      "\n",
      "\n",
      "[[ 1  2  3  4]\n",
      " [ 5  6  7  8]\n",
      " [ 9 10 11 12]]\n"
     ]
    }
   ],
   "source": [
    "complete_list = [[[1, 2], [5, 6]], [[3, 4], [7, 8]], [[9, 10, 11, 12]]]\n",
    "list_1=complete_list[0]\n",
    "list_2=complete_list[1]\n",
    "list_3=complete_list[2]\n",
    "\n",
    "print(list_1)\n",
    "print(list_2)\n",
    "print(list_3)\n",
    "\n",
    "array_hstack = nump.hstack([list_1, list_2])\n",
    "print(array_hstack)\n",
    "\n",
    "array_vstack = nump.array(list_3)\n",
    "print(array_vstack)\n",
    "print(\"\\n\")\n",
    "array_vstack = nump.vstack([array_hstack,array_vstack])\n",
    "print(array_vstack)\n"
   ]
  },
  {
   "cell_type": "markdown",
   "metadata": {},
   "source": [
    "<h2> Operations On Arrays </h2>\n",
    "<b> numpy provides the basic mathematical operations as below </b>\n",
    "<ol>\n",
    "    <li> Exp </li>\n",
    "    <li> Sin </li>\n",
    "    <li> Cos </li>\n",
    "    <li> Sqrt</li>\n",
    " </ol>\n",
    " <b> Functions above are applied to each element in the function </b>\n",
    " <p> You can apply your own funcions on the array. For eg: to apply function X/(1+X) to each of the elements in the array\n",
    "    one way to do it is loop through the array. We need to write it through an vectorized way.\n",
    "    The simplest way to do is to vecotrize the function and then apply it to all the elements in the array.\n",
    "    The numpy provides the fucntion num.vectorize() method to vectorize the functions.\n",
    "  </p>"
   ]
  },
  {
   "cell_type": "code",
   "execution_count": 42,
   "metadata": {},
   "outputs": [
    {
     "name": "stdout",
     "output_type": "stream",
     "text": [
      "[ 1  2  3  4  5  6  7  8  9 10 11 12 13 14 15 16 17 18 19]\n",
      "\n",
      "\n",
      "[ 0.84147098  0.90929743  0.14112001 -0.7568025  -0.95892427 -0.2794155\n",
      "  0.6569866   0.98935825  0.41211849 -0.54402111 -0.99999021 -0.53657292\n",
      "  0.42016704  0.99060736  0.65028784 -0.28790332 -0.96139749 -0.75098725\n",
      "  0.14987721]\n",
      "\n",
      "\n",
      "[ 0.54030231 -0.41614684 -0.9899925  -0.65364362  0.28366219  0.96017029\n",
      "  0.75390225 -0.14550003 -0.91113026 -0.83907153  0.0044257   0.84385396\n",
      "  0.90744678  0.13673722 -0.75968791 -0.95765948 -0.27516334  0.66031671\n",
      "  0.98870462]\n",
      "\n",
      "\n",
      "[2.71828183e+00 7.38905610e+00 2.00855369e+01 5.45981500e+01\n",
      " 1.48413159e+02 4.03428793e+02 1.09663316e+03 2.98095799e+03\n",
      " 8.10308393e+03 2.20264658e+04 5.98741417e+04 1.62754791e+05\n",
      " 4.42413392e+05 1.20260428e+06 3.26901737e+06 8.88611052e+06\n",
      " 2.41549528e+07 6.56599691e+07 1.78482301e+08]\n",
      "\n",
      "\n",
      "[1.         1.41421356 1.73205081 2.         2.23606798 2.44948974\n",
      " 2.64575131 2.82842712 3.         3.16227766 3.31662479 3.46410162\n",
      " 3.60555128 3.74165739 3.87298335 4.         4.12310563 4.24264069\n",
      " 4.35889894]\n",
      "\n",
      "\n",
      "[0.         0.69314718 1.09861229 1.38629436 1.60943791 1.79175947\n",
      " 1.94591015 2.07944154 2.19722458 2.30258509 2.39789527 2.48490665\n",
      " 2.56494936 2.63905733 2.7080502  2.77258872 2.83321334 2.89037176\n",
      " 2.94443898]\n"
     ]
    }
   ],
   "source": [
    "# Operations on arrays.\n",
    "a = nump.arange(1,20)\n",
    "print(a)\n",
    "print(\"\\n\")\n",
    "print(nump.sin(a))\n",
    "print(\"\\n\")\n",
    "print(nump.cos(a))\n",
    "print(\"\\n\")\n",
    "print(nump.exp(a))\n",
    "print(\"\\n\")\n",
    "print(nump.sqrt(a))\n",
    "print(\"\\n\")\n",
    "print(nump.log(a))"
   ]
  },
  {
   "cell_type": "code",
   "execution_count": 45,
   "metadata": {},
   "outputs": [
    {
     "name": "stdout",
     "output_type": "stream",
     "text": [
      "[0.5, 0.6666666666666666, 0.75, 0.8, 0.8333333333333334, 0.8571428571428571, 0.875, 0.8888888888888888, 0.9, 0.9090909090909091, 0.9166666666666666, 0.9230769230769231, 0.9285714285714286, 0.9333333333333333, 0.9375, 0.9411764705882353, 0.9444444444444444, 0.9473684210526315, 0.95]\n"
     ]
    }
   ],
   "source": [
    "alist = [x/(x+1) for x in a]\n",
    "print(alist)"
   ]
  },
  {
   "cell_type": "code",
   "execution_count": 61,
   "metadata": {},
   "outputs": [
    {
     "name": "stdout",
     "output_type": "stream",
     "text": [
      "[0.5, 0.6666666666666666, 0.75, 0.8, 0.8333333333333334, 0.8571428571428571, 0.875, 0.8888888888888888, 0.9, 0.9090909090909091, 0.9166666666666666, 0.9230769230769231, 0.9285714285714286, 0.9333333333333333, 0.9375, 0.9411764705882353, 0.9444444444444444, 0.9473684210526315, 0.95]\n",
      "\n",
      "\n",
      "0.0009982585906982422\n"
     ]
    },
    {
     "data": {
      "text/plain": [
       "array([0.5       , 0.66666667, 0.75      , 0.8       , 0.83333333,\n",
       "       0.85714286, 0.875     , 0.88888889, 0.9       , 0.90909091,\n",
       "       0.91666667, 0.92307692, 0.92857143, 0.93333333, 0.9375    ,\n",
       "       0.94117647, 0.94444444, 0.94736842, 0.95      ])"
      ]
     },
     "execution_count": 61,
     "metadata": {},
     "output_type": "execute_result"
    }
   ],
   "source": [
    "import time\n",
    "\n",
    "time1x = time.time()\n",
    "alist = [x/(x+1) for x in a]\n",
    "print(alist)\n",
    "time2x = time.time()\n",
    "print(\"\\n\")\n",
    "print(time2x - time1x)\n",
    "\n",
    "#Vectorize the function with lambda expression.\n",
    "f = nump.vectorize(lambda x:x/(x+1))\n",
    "f(a)\n",
    "\n",
    "\n"
   ]
  },
  {
   "cell_type": "code",
   "execution_count": 70,
   "metadata": {},
   "outputs": [
    {
     "name": "stdout",
     "output_type": "stream",
     "text": [
      "[[1, 2, 3, 4], [4, 7, 5, 6]]\n",
      "[[9, 0, 7, 8], [6, 7, 8, 5]]\n",
      "\n",
      "\n",
      "[[1 2 3 4 9 0 7 8]\n",
      " [4 7 5 6 6 7 8 5]]\n",
      "\n",
      "\n",
      "[[0.2 0.4 0.6 0.8 1.8 0.  1.4 1.6]\n",
      " [0.8 1.4 1.  1.2 1.2 1.4 1.6 1. ]]\n"
     ]
    }
   ],
   "source": [
    "input_list = [[1,2,3,4],[4,7,5,6],[9,0,7,8],[6,7,8,5]]\n",
    "list_1 = input_list[0:2]\n",
    "list_2 = input_list[2:4]\n",
    "print(list_1)\n",
    "print(list_2)\n",
    "array_list_1 = nump.array(list_1)\n",
    "array_list_2 = nump.array(list_2)\n",
    "print(\"\\n\")\n",
    "array_list_3 = nump.hstack([array_list_1, array_list_2])\n",
    "print(array_list_3)\n",
    "print(\"\\n\")\n",
    "\n",
    "function = nump.vectorize(lambda x:x/5)\n",
    "print(function(array_list_3))"
   ]
  },
  {
   "cell_type": "markdown",
   "metadata": {},
   "source": [
    "<h2> Basic Linear Operations </h2>\n",
    "NumPy provides the <b>np.linalg</b> package to apply common linear algebra operations, such as:\n",
    "<ul> \n",
    "    <li>np.linalg.inv: Inverse of a matrix</li>\n",
    "    <li>np.linalg.det: Determinant of a matrix</li>\n",
    "    <li>np.linalg.eig: Eigenvalues and eigenvectors of a matrix</li>\n",
    "</ul>\n",
    "<b>Also, you can multiply matrices using np.dot(a, b) </b>\n"
   ]
  },
  {
   "cell_type": "code",
   "execution_count": 75,
   "metadata": {},
   "outputs": [
    {
     "name": "stdout",
     "output_type": "stream",
     "text": [
      "[[1 2 3]\n",
      " [4 5 6]\n",
      " [7 8 9]]\n"
     ]
    }
   ],
   "source": [
    "# Creating arrays\n",
    "\n",
    "array_1 = nump.arange(1,10).reshape(3,3)\n",
    "array_2 = nump.arange(1,13).reshape(3,4)\n",
    "print(array_1)"
   ]
  },
  {
   "cell_type": "code",
   "execution_count": 76,
   "metadata": {},
   "outputs": [
    {
     "data": {
      "text/plain": [
       "array([[ 3.15251974e+15, -6.30503948e+15,  3.15251974e+15],\n",
       "       [-6.30503948e+15,  1.26100790e+16, -6.30503948e+15],\n",
       "       [ 3.15251974e+15, -6.30503948e+15,  3.15251974e+15]])"
      ]
     },
     "execution_count": 76,
     "metadata": {},
     "output_type": "execute_result"
    }
   ],
   "source": [
    "# inverse of a matrix\n",
    "nump.linalg.inv(array_1)"
   ]
  },
  {
   "cell_type": "code",
   "execution_count": 78,
   "metadata": {},
   "outputs": [
    {
     "data": {
      "text/plain": [
       "-9.51619735392994e-16"
      ]
     },
     "execution_count": 78,
     "metadata": {},
     "output_type": "execute_result"
    }
   ],
   "source": [
    "# Determinant of a matrix\n",
    "nump.linalg.det(array_1)"
   ]
  },
  {
   "cell_type": "code",
   "execution_count": 79,
   "metadata": {},
   "outputs": [
    {
     "data": {
      "text/plain": [
       "array([[ 38,  44,  50,  56],\n",
       "       [ 83,  98, 113, 128],\n",
       "       [128, 152, 176, 200]])"
      ]
     },
     "execution_count": 79,
     "metadata": {},
     "output_type": "execute_result"
    }
   ],
   "source": [
    "# multiplication of two matrices\n",
    "\n",
    "nump.dot(array_1, array_2)"
   ]
  }
 ],
 "metadata": {
  "kernelspec": {
   "display_name": "Python 3",
   "language": "python",
   "name": "python3"
  },
  "language_info": {
   "codemirror_mode": {
    "name": "ipython",
    "version": 3
   },
   "file_extension": ".py",
   "mimetype": "text/x-python",
   "name": "python",
   "nbconvert_exporter": "python",
   "pygments_lexer": "ipython3",
   "version": "3.7.3"
  }
 },
 "nbformat": 4,
 "nbformat_minor": 2
}
