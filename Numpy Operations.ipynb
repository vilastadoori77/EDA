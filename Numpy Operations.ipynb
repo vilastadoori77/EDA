{
 "cells": [
  {
   "cell_type": "code",
   "execution_count": 13,
   "metadata": {},
   "outputs": [
    {
     "name": "stdout",
     "output_type": "stream",
     "text": [
      "[0.65258074 0.91835479 0.37901756 0.19275079 0.71297992 0.02782931\n",
      " 0.06578145 0.8626776  0.41001527 0.24146648 0.83739303 0.32363042\n",
      " 0.68990867 0.05028445 0.41645169 0.32251154 0.3555709  0.61127198\n",
      " 0.83003887 0.62485346 0.49868393 0.50372758 0.64633367 0.69208699\n",
      " 0.48648449 0.79474687 0.70986111 0.90219743 0.52778121 0.75045439\n",
      " 0.66597132 0.46852165 0.55217627 0.15371022 0.45305379 0.85075553\n",
      " 0.94051812 0.19470387 0.96715062 0.64410712 0.88331572 0.39434985\n",
      " 0.51378002 0.10088166 0.73921807 0.18068159 0.57883377 0.3172038\n",
      " 0.899754   0.81883165 0.73458025 0.79551012 0.17468991 0.45581081\n",
      " 0.45842725 0.04890806 0.65098537 0.56461795 0.8840796  0.31256753\n",
      " 0.06905831 0.35522097 0.84599707 0.16043077 0.52942103 0.69173158\n",
      " 0.27796126 0.28173315 0.35909793 0.77734282 0.33264354 0.79779713\n",
      " 0.06073561 0.50355438 0.19807299 0.61329388 0.31417519 0.83102435\n",
      " 0.57735222 0.01232111 0.82164294 0.55872685 0.2316349  0.03374315\n",
      " 0.31110904 0.38239554 0.78175775 0.10796505 0.12196263 0.58148367\n",
      " 0.58762116 0.08191147 0.13340477 0.74374374 0.73393837 0.60054109\n",
      " 0.08105463 0.63297424 0.00916636 0.74215148 0.13181065 0.05795017\n",
      " 0.05743408 0.75624291 0.16580963 0.88861539 0.46419651 0.50880362\n",
      " 0.76986793 0.24260692 0.90278256 0.82518924 0.65238155 0.27321869\n",
      " 0.34604504 0.11915989 0.96418706 0.87393484 0.54230895 0.66053107\n",
      " 0.3632904  0.45640247 0.82998136 0.42080042 0.03004148 0.67149545\n",
      " 0.20153329 0.73986731 0.64977963 0.02628866 0.96658716 0.41739276\n",
      " 0.93451397 0.94835699 0.69887436 0.58547448 0.06697231 0.37720444\n",
      " 0.16571263 0.44081207 0.00293168 0.2480122  0.13205199 0.55255496\n",
      " 0.55075781 0.83159508 0.2947106  0.79407223 0.37854634 0.82376387\n",
      " 0.82093367 0.14576477 0.34082934 0.60839845 0.24733057 0.43177879\n",
      " 0.13536742 0.76994863 0.74793707 0.43950368 0.9340671  0.67548756\n",
      " 0.37320504 0.43072289 0.10980906 0.24347446 0.77586126 0.17676165\n",
      " 0.8713317  0.12222108 0.27700926 0.65058191 0.07572682 0.46779611\n",
      " 0.10187386 0.24916084 0.75077679 0.88898463 0.67457775 0.34456247\n",
      " 0.87596466 0.7764967  0.11038342 0.79201429 0.58299115 0.39499837\n",
      " 0.96696123 0.735572   0.93004947 0.65766622 0.87461822 0.79810699\n",
      " 0.85935555 0.87227908 0.0144978  0.59352305 0.73933261 0.71239468\n",
      " 0.62867899 0.19223974 0.70927233 0.12208666 0.60332464 0.032987\n",
      " 0.99012834 0.2950567  0.20343942 0.73199187 0.50792562 0.47102448\n",
      " 0.49561915 0.16932176 0.91280516 0.04448937 0.94464895 0.01057109\n",
      " 0.20453812 0.42734407 0.0297747  0.3247514  0.73567903 0.35567102\n",
      " 0.74407707 0.37323062 0.41462574 0.20087268 0.82745038 0.59509514\n",
      " 0.24338471 0.19314661 0.8276699  0.49769613 0.71666885 0.6830071\n",
      " 0.19115238 0.85659301 0.79611514 0.86068929 0.73336024 0.2277115\n",
      " 0.23636363 0.89350803 0.52087659 0.83997154 0.6109114  0.9270888\n",
      " 0.94429176 0.20153244 0.72827778 0.26780186 0.72414405 0.10064416\n",
      " 0.32797663 0.9228238  0.66480382 0.68196115 0.49533658 0.42338189\n",
      " 0.28292944 0.28789042 0.56423965 0.35096597 0.13714177 0.37157243\n",
      " 0.18033635 0.88441489 0.72070962 0.73025275 0.62676066 0.94525871\n",
      " 0.88988839 0.72574094 0.48515514 0.2310179  0.10363412 0.97715231\n",
      " 0.04562127 0.68255993 0.08529099 0.73540886 0.22838746 0.35607484\n",
      " 0.40062479 0.89919977 0.95449993 0.09002563 0.95576545 0.74457468\n",
      " 0.19853478 0.29943528 0.25866478 0.19588862 0.25668726 0.25665353\n",
      " 0.35663124 0.76601997 0.63479694 0.70437679 0.14197206 0.47306465]\n",
      "Array Shape (1000, 300)\n",
      "dtype float64\n",
      "ndim 2\n",
      "itemsize 8\n"
     ]
    }
   ],
   "source": [
    "# Generating a random 1000 * 300 array\n",
    "\n",
    "import numpy as nump\n",
    "rand_array = nump.random.random((1000,300))\n",
    "# print(rand_array)\n",
    "# Printing the first row.\n",
    "print(rand_array[0,])\n",
    "print(\"Array Shape\",rand_array.shape)\n",
    "print(\"dtype\", rand_array.dtype)\n",
    "print(\"ndim\", rand_array.ndim)\n",
    "print(\"itemsize\", rand_array.itemsize)"
   ]
  },
  {
   "cell_type": "code",
   "execution_count": 18,
   "metadata": {},
   "outputs": [
    {
     "name": "stdout",
     "output_type": "stream",
     "text": [
      "[[[ 0  1  2  3]\n",
      "  [ 4  5  6  7]\n",
      "  [ 8  9 10 11]]\n",
      "\n",
      " [[12 13 14 15]\n",
      "  [16 17 18 19]\n",
      "  [20 21 22 23]]]\n"
     ]
    }
   ],
   "source": [
    "# Higher Dimensional Arrays with 3 and above.\n",
    "array_3d = nump.arange(24).reshape(2,3,4)\n",
    "print(array_3d)"
   ]
  },
  {
   "cell_type": "code",
   "execution_count": 33,
   "metadata": {},
   "outputs": [
    {
     "name": "stdout",
     "output_type": "stream",
     "text": [
      "[[10 11 12 13]\n",
      " [15 12 13 14]]\n"
     ]
    }
   ],
   "source": [
    "list_1 = [10,11,12,13] \n",
    "list_2 = [15,12,13,14]\n",
    "\n",
    "x = nump.array([list_1, list_2])\n",
    "print(x)"
   ]
  },
  {
   "cell_type": "code",
   "execution_count": 34,
   "metadata": {},
   "outputs": [
    {
     "name": "stdout",
     "output_type": "stream",
     "text": [
      "[0 1 2 3 4 5 6 7 8 9]\n"
     ]
    }
   ],
   "source": [
    "# Slicing in Arrays\n",
    "\n",
    "array_2d = nump.arange(10)\n",
    "print(array_2d)\n"
   ]
  },
  {
   "cell_type": "code",
   "execution_count": 45,
   "metadata": {},
   "outputs": [
    {
     "name": "stdout",
     "output_type": "stream",
     "text": [
      "2\n",
      "[2 3 4 5 6 7 8 9]\n",
      "[3 4 5 6 7 8 9]\n",
      "[0 1 2]\n",
      "[2 3 4 5 6]\n",
      "[0 2 4 6 8]\n",
      "[0 1 2 3 4 5 6 7 8 9]\n",
      "[0 2 4 6 8]\n",
      "[0 3 6 9]\n"
     ]
    }
   ],
   "source": [
    "print(array_2d[2])\n",
    "# third element onwards\n",
    "print(array_2d[2:])\n",
    "#fourth element onwards\n",
    "print(array_2d[3:])\n",
    "\n",
    "#Slice of first three elements\n",
    "\n",
    "print(array_2d[:3])\n",
    "#Slice of third to seventh element\n",
    "print(array_2d[2:7])\n",
    "#Subset starting 0 at increment of 2\n",
    "print(array_2d[0::2])\n",
    "# print all the elements\n",
    "print(array_2d[::])\n",
    "# Increment array element by 2\n",
    "print(array_2d[::2])\n",
    "#increment array element by 3\n",
    "print(array_2d[0::3])"
   ]
  },
  {
   "cell_type": "code",
   "execution_count": 50,
   "metadata": {},
   "outputs": [
    {
     "name": "stdout",
     "output_type": "stream",
     "text": [
      "[[ 2  5  7  5]\n",
      " [ 4  6  8 10]\n",
      " [10 12 15 19]]\n",
      "12\n",
      "12\n"
     ]
    }
   ],
   "source": [
    "# Create a 2D array.\n",
    "\n",
    "array_2d_1 = nump.array([[2,5,7,5],[4,6,8,10],[10,12,15,19]])\n",
    "print(array_2d_1)\n",
    "\n",
    "# accessing third row second column\n",
    "\n",
    "print(array_2d_1[2][1])\n",
    "# Correct way of accessing the array.\n",
    "print(array_2d_1[2,1])"
   ]
  },
  {
   "cell_type": "code",
   "execution_count": 56,
   "metadata": {},
   "outputs": [
    {
     "name": "stdout",
     "output_type": "stream",
     "text": [
      "[ 4  6  8 10]\n",
      "[ 7  8 15]\n",
      "[[ 2  5  7]\n",
      " [ 4  6  8]\n",
      " [10 12 15]]\n",
      "[[ 2  5  7  5]\n",
      " [ 4  6  8 10]\n",
      " [10 12 15 19]]\n"
     ]
    }
   ],
   "source": [
    "#print(array_2d_1)\n",
    "#Second row and all columns\n",
    "print(array_2d_1[1,:])\n",
    "\n",
    "#Slicing all rows and thrid column\n",
    "print(array_2d_1[:,2])\n",
    "\n",
    "#Slicing all rows and first three columns\n",
    "print(array_2d_1[:,:3])\n",
    "\n",
    "#Printing all rows and all columns\n",
    "print(array_2d_1[::])"
   ]
  },
  {
   "cell_type": "code",
   "execution_count": 57,
   "metadata": {},
   "outputs": [
    {
     "name": "stdout",
     "output_type": "stream",
     "text": [
      "[2 5 7 5]\n",
      "[ 4  6  8 10]\n",
      "[10 12 15 19]\n"
     ]
    }
   ],
   "source": [
    "#printing the 2d array\n",
    "\n",
    "for row in array_2d_1:\n",
    "    print(row)"
   ]
  },
  {
   "cell_type": "code",
   "execution_count": 58,
   "metadata": {},
   "outputs": [
    {
     "name": "stdout",
     "output_type": "stream",
     "text": [
      "[[[ 0  1  2  3]\n",
      "  [ 4  5  6  7]\n",
      "  [ 8  9 10 11]]\n",
      "\n",
      " [[12 13 14 15]\n",
      "  [16 17 18 19]\n",
      "  [20 21 22 23]]]\n"
     ]
    }
   ],
   "source": [
    "#Creating a 3D array\n",
    "\n",
    "array_3d  = nump.arange(24).reshape(2,3,4)\n",
    "print(array_3d)"
   ]
  },
  {
   "cell_type": "code",
   "execution_count": 59,
   "metadata": {},
   "outputs": [
    {
     "name": "stdout",
     "output_type": "stream",
     "text": [
      "[[ 0  1  2  3]\n",
      " [ 4  5  6  7]\n",
      " [ 8  9 10 11]]\n",
      "[[12 13 14 15]\n",
      " [16 17 18 19]\n",
      " [20 21 22 23]]\n"
     ]
    }
   ],
   "source": [
    "for row in array_3d:\n",
    "    print(row)"
   ]
  },
  {
   "cell_type": "code",
   "execution_count": 72,
   "metadata": {},
   "outputs": [
    {
     "name": "stdout",
     "output_type": "stream",
     "text": [
      "[6 6 8]\n"
     ]
    }
   ],
   "source": [
    "array_2d = nump.array([[5,6,7],[7,6,5],[0,8,7]])\n",
    "#print(array_2d)\n",
    "print(array_2d[:,1])"
   ]
  },
  {
   "cell_type": "code",
   "execution_count": 79,
   "metadata": {},
   "outputs": [
    {
     "name": "stdout",
     "output_type": "stream",
     "text": [
      "[11 21 31]\n",
      "[11 12 13 14]\n",
      "[14 24 34]\n",
      "[[31 32 33 34]]\n"
     ]
    }
   ],
   "source": [
    "array_2d_1= nump.array([[11, 12, 13, 14],\n",
    " [21, 22, 23, 24],\n",
    " [31, 32, 33, 34]])\n",
    "#Col First\n",
    "print(array_2d_1[:,0])\n",
    "#Row First\n",
    "print(array_2d_1[0,:])\n",
    "#Col Last\n",
    "print(array_2d_1[:,3])\n",
    "#Row Last\n",
    "print(array_2d_1[2:,])"
   ]
  },
  {
   "cell_type": "code",
   "execution_count": null,
   "metadata": {},
   "outputs": [],
   "source": []
  }
 ],
 "metadata": {
  "kernelspec": {
   "display_name": "Python 3",
   "language": "python",
   "name": "python3"
  },
  "language_info": {
   "codemirror_mode": {
    "name": "ipython",
    "version": 3
   },
   "file_extension": ".py",
   "mimetype": "text/x-python",
   "name": "python",
   "nbconvert_exporter": "python",
   "pygments_lexer": "ipython3",
   "version": "3.7.3"
  }
 },
 "nbformat": 4,
 "nbformat_minor": 2
}
