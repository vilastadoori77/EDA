{
 "cells": [
  {
   "cell_type": "markdown",
   "metadata": {},
   "source": [
    "<h2>OOP Essentail<h2>"
   ]
  },
  {
   "cell_type": "code",
   "execution_count": 1,
   "metadata": {},
   "outputs": [
    {
     "name": "stdout",
     "output_type": "stream",
     "text": [
      "hello to the world\n"
     ]
    }
   ],
   "source": [
    "def sayHello():\n",
    "    print(\"hello to the world\")\n",
    "\n",
    "sayHello()"
   ]
  },
  {
   "cell_type": "code",
   "execution_count": 2,
   "metadata": {},
   "outputs": [
    {
     "name": "stdout",
     "output_type": "stream",
     "text": [
      "The gift is Car\n"
     ]
    }
   ],
   "source": [
    "# Parametrized functions\n",
    "def whatisgift(gift):\n",
    "    print('The gift is', gift)\n",
    "\n",
    "whatisgift('Car')"
   ]
  },
  {
   "cell_type": "code",
   "execution_count": 4,
   "metadata": {},
   "outputs": [
    {
     "name": "stdout",
     "output_type": "stream",
     "text": [
      "The name is Vilas age 43 address This is a test address\n"
     ]
    }
   ],
   "source": [
    "#Default Argument\n",
    "def empreg(name, age, address='This is a test address'):\n",
    "    print('The name is {} age {} address {}'.format(name,age,address))\n",
    "    \n",
    "empreg('Vilas',43)"
   ]
  },
  {
   "cell_type": "code",
   "execution_count": 5,
   "metadata": {},
   "outputs": [],
   "source": [
    "#Named Paramenters\n",
    "\n",
    "\n",
    "def rankMovie(title, rank,year):\n",
    "    print('The title {} rank{} year{}'.format(title, rank, year))\n",
    "    \n"
   ]
  },
  {
   "cell_type": "code",
   "execution_count": 6,
   "metadata": {},
   "outputs": [
    {
     "name": "stdout",
     "output_type": "stream",
     "text": [
      "The title Avatar rank9.5 year2010\n"
     ]
    }
   ],
   "source": [
    "rankMovie(rank=9.5,title='Avatar', year=2010)"
   ]
  },
  {
   "cell_type": "code",
   "execution_count": 9,
   "metadata": {},
   "outputs": [
    {
     "name": "stdout",
     "output_type": "stream",
     "text": [
      "outfunction= 10\n"
     ]
    }
   ],
   "source": [
    "#Function scope\n",
    "\n",
    "def outer_function():\n",
    "    a=20\n",
    "    print('a =',a)\n",
    "    \n",
    "    def inner_function():\n",
    "        a=30\n",
    "        print('inner_function =',a)\n",
    "    \n",
    "    inner_function()\n",
    "    print('A inner', a)\n",
    "    \n",
    "a=10\n",
    "\n",
    "print('outfunction=',a)"
   ]
  },
  {
   "cell_type": "code",
   "execution_count": 10,
   "metadata": {},
   "outputs": [
    {
     "data": {
      "text/plain": [
       "2"
      ]
     },
     "execution_count": 10,
     "metadata": {},
     "output_type": "execute_result"
    }
   ],
   "source": [
    "# Lambda expressions\n",
    "\n",
    "func = lambda x: x+1\n",
    "func(1)"
   ]
  },
  {
   "cell_type": "code",
   "execution_count": 11,
   "metadata": {},
   "outputs": [
    {
     "data": {
      "text/plain": [
       "4"
      ]
     },
     "execution_count": 11,
     "metadata": {},
     "output_type": "execute_result"
    }
   ],
   "source": [
    "sq = lambda x:x**2\n",
    "sq(2)"
   ]
  },
  {
   "cell_type": "code",
   "execution_count": 12,
   "metadata": {},
   "outputs": [
    {
     "data": {
      "text/plain": [
       "9"
      ]
     },
     "execution_count": 12,
     "metadata": {},
     "output_type": "execute_result"
    }
   ],
   "source": [
    "func_1 = lambda x,y:x+y\n",
    "func_1(4,5)"
   ]
  },
  {
   "cell_type": "code",
   "execution_count": 13,
   "metadata": {},
   "outputs": [],
   "source": [
    "case_convertor = lambda msg:msg.upper()"
   ]
  },
  {
   "cell_type": "code",
   "execution_count": 14,
   "metadata": {},
   "outputs": [
    {
     "data": {
      "text/plain": [
       "'THIS IS A TEST'"
      ]
     },
     "execution_count": 14,
     "metadata": {},
     "output_type": "execute_result"
    }
   ],
   "source": [
    "case_convertor('This is a test')"
   ]
  },
  {
   "cell_type": "code",
   "execution_count": 16,
   "metadata": {},
   "outputs": [
    {
     "name": "stdout",
     "output_type": "stream",
     "text": [
      "1\n",
      "4\n",
      "9\n",
      "16\n",
      "25\n",
      "36\n",
      "49\n",
      "64\n",
      "81\n",
      "100\n"
     ]
    }
   ],
   "source": [
    "def getSquare(n):\n",
    "    return n*n\n",
    "list_test = [1,2,3,4,5,6,7,8,9,10]\n",
    "\n",
    "for i in list_test:\n",
    "    print(getSquare(i))\n",
    "\n"
   ]
  },
  {
   "cell_type": "code",
   "execution_count": 19,
   "metadata": {},
   "outputs": [
    {
     "data": {
      "text/plain": [
       "[1, 4, 9, 16, 25, 36, 49, 64, 81, 100]"
      ]
     },
     "execution_count": 19,
     "metadata": {},
     "output_type": "execute_result"
    }
   ],
   "source": [
    "def getSquare_1(n):\n",
    "    return n*n\n",
    "\n",
    "list_new=[1,2,3,4,5,6,7,8,9,10]\n",
    "\n",
    "func_test = map(getSquare_1, list_new)\n",
    "list(func_test)"
   ]
  },
  {
   "cell_type": "code",
   "execution_count": 20,
   "metadata": {},
   "outputs": [
    {
     "data": {
      "text/plain": [
       "[4, 16, 36, 64, 100, 144]"
      ]
     },
     "execution_count": 20,
     "metadata": {},
     "output_type": "execute_result"
    }
   ],
   "source": [
    "list_new_1=[2,4,6,8,10,12]\n",
    "func_test_new = map(lambda x:x*x, list_new_1)\n",
    "list(func_test_new)"
   ]
  },
  {
   "cell_type": "code",
   "execution_count": 23,
   "metadata": {},
   "outputs": [
    {
     "name": "stdout",
     "output_type": "stream",
     "text": [
      "[0, 1, 2, 3, 4, 5, 6, 7, 8, 9]\n"
     ]
    },
    {
     "data": {
      "text/plain": [
       "[0, 2, 4, 6, 8]"
      ]
     },
     "execution_count": 23,
     "metadata": {},
     "output_type": "execute_result"
    }
   ],
   "source": [
    "def filterEvenNumbers(n):\n",
    "    if n%2==0:\n",
    "        return True\n",
    "    else:\n",
    "        return False\n",
    "\n",
    "list_test = list(range(10))\n",
    "print(list_test)\n",
    "\n",
    "list(filter(filterEvenNumbers,list_test))"
   ]
  },
  {
   "cell_type": "code",
   "execution_count": 28,
   "metadata": {},
   "outputs": [
    {
     "data": {
      "text/plain": [
       "[0, 2, 4, 6, 8, 10, 12, 14, 16, 18]"
      ]
     },
     "execution_count": 28,
     "metadata": {},
     "output_type": "execute_result"
    }
   ],
   "source": [
    "#Lambda Expression for filter\n",
    "\n",
    "list_test_1= list(range(20))\n",
    "check_filter =filter(lambda x:x%2==0, list_test_1)\n",
    "list(check_filter)"
   ]
  },
  {
   "cell_type": "markdown",
   "metadata": {},
   "source": [
    "<h2> OOP </h2>"
   ]
  },
  {
   "cell_type": "code",
   "execution_count": 34,
   "metadata": {},
   "outputs": [],
   "source": [
    "class dog:\n",
    "    def bark(self):\n",
    "        print(\"Woof, Woof\")\n",
    "\n"
   ]
  },
  {
   "cell_type": "code",
   "execution_count": 35,
   "metadata": {},
   "outputs": [],
   "source": [
    "tommy=dog()"
   ]
  },
  {
   "cell_type": "code",
   "execution_count": 36,
   "metadata": {},
   "outputs": [
    {
     "name": "stdout",
     "output_type": "stream",
     "text": [
      "Woof, Woof\n"
     ]
    }
   ],
   "source": [
    "tommy.bark()"
   ]
  },
  {
   "cell_type": "code",
   "execution_count": 38,
   "metadata": {},
   "outputs": [],
   "source": [
    "class Dog:# Class decleration , self is like this in java\n",
    "    def __init__(self):  # Consutructor initilization\n",
    "        self.sound='Woof,woof'\n",
    "        print('I am in the constructor')        \n",
    "    def bark(self):\n",
    "        print(self.sound)"
   ]
  },
  {
   "cell_type": "code",
   "execution_count": 40,
   "metadata": {},
   "outputs": [
    {
     "name": "stdout",
     "output_type": "stream",
     "text": [
      "I am in the constructor\n",
      "Woof,woof\n"
     ]
    }
   ],
   "source": [
    "tommy=Dog() # Object initilization\n",
    "tommy.bark() # method invocation"
   ]
  },
  {
   "cell_type": "code",
   "execution_count": 50,
   "metadata": {},
   "outputs": [],
   "source": [
    "class Dog_hybird:\n",
    "    def __init__(self,sound):\n",
    "        self.sound = sound\n",
    "        print('I am in the consutructor')\n",
    "    def bark(self, name):\n",
    "        print(name,\"says\",self.sound)\n",
    "    def __del__(self):\n",
    "        print(\"calling destructor\")"
   ]
  },
  {
   "cell_type": "code",
   "execution_count": 52,
   "metadata": {},
   "outputs": [
    {
     "name": "stdout",
     "output_type": "stream",
     "text": [
      "I am in the consutructor\n",
      "Spenser says Woof,woof\n",
      "calling destructor\n"
     ]
    }
   ],
   "source": [
    "scatty = Dog_hybird(\"Woof,woof\")\n",
    "scatty.bark(\"Spenser\")\n",
    "del scatty"
   ]
  },
  {
   "cell_type": "code",
   "execution_count": 66,
   "metadata": {},
   "outputs": [],
   "source": [
    "#Inheritance\n",
    "\n",
    "class furniture:\n",
    "    width=0\n",
    "    height=0\n",
    "    \n",
    "class chair(furniture):\n",
    "    def setDimensions(self,width,height):\n",
    "        self.width=width\n",
    "        self.height=height\n",
    "        \n",
    "    def printDimensions(self):\n",
    "        print(\"The width is :{} and Height is :{}\".format(self.width,self.height))\n",
    "        \n",
    "    def printArea(self):\n",
    "        print(\"The area is :{}\".format(self.width*self.height))\n"
   ]
  },
  {
   "cell_type": "code",
   "execution_count": 67,
   "metadata": {},
   "outputs": [
    {
     "name": "stdout",
     "output_type": "stream",
     "text": [
      "The width is :10 and Height is :10\n",
      "The area is :100\n"
     ]
    }
   ],
   "source": [
    "c=chair()\n",
    "c.setDimensions(10, 10)\n",
    "c.printDimensions()\n",
    "c.printArea()"
   ]
  },
  {
   "cell_type": "code",
   "execution_count": 69,
   "metadata": {},
   "outputs": [
    {
     "data": {
      "text/plain": [
       "15"
      ]
     },
     "execution_count": 69,
     "metadata": {},
     "output_type": "execute_result"
    }
   ],
   "source": [
    "from functools import reduce\n",
    "mylist=[1,2,3,4,5]\n",
    "reduce(lambda x,y:x+y, mylist)"
   ]
  }
 ],
 "metadata": {
  "kernelspec": {
   "display_name": "Python 3",
   "language": "python",
   "name": "python3"
  },
  "language_info": {
   "codemirror_mode": {
    "name": "ipython",
    "version": 3
   },
   "file_extension": ".py",
   "mimetype": "text/x-python",
   "name": "python",
   "nbconvert_exporter": "python",
   "pygments_lexer": "ipython3",
   "version": "3.7.3"
  }
 },
 "nbformat": 4,
 "nbformat_minor": 2
}
