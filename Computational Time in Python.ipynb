{
 "cells": [
  {
   "cell_type": "code",
   "execution_count": 7,
   "metadata": {},
   "outputs": [
    {
     "name": "stdout",
     "output_type": "stream",
     "text": [
      "0.19148826599121094\n",
      "0.005981922149658203\n",
      "ratio of time difference between normal and numpy calculation is 32.01115982463133\n"
     ]
    }
   ],
   "source": [
    "list_1 = [i for i in range(1000000)]\n",
    "list_2 = [j**2 for j in range(1000000)]\n",
    "\n",
    "import time\n",
    "import numpy as nump\n",
    "\n",
    "time0= time.time()\n",
    "product_list1 = list(map(lambda x,y: x*y ,list_1, list_2))\n",
    "time1 = time.time()\n",
    "\n",
    "time_diff = time1 - time0\n",
    "\n",
    "print(time_diff)\n",
    "\n",
    "\n",
    "array_1 = nump.array(list_1)\n",
    "array_2 = nump.array(list_2)\n",
    "\n",
    "time2 = time.time()\n",
    "\n",
    "array_3 = array_1 * array_2\n",
    "\n",
    "time3 = time.time()\n",
    "\n",
    "time_diff1= time3 - time2\n",
    "\n",
    "print(time_diff1)\n",
    "\n",
    "\n",
    "print(\"ratio of time difference between normal and numpy calculation is {}\".format(time_diff/time_diff1))"
   ]
  },
  {
   "cell_type": "code",
   "execution_count": null,
   "metadata": {},
   "outputs": [],
   "source": []
  }
 ],
 "metadata": {
  "kernelspec": {
   "display_name": "Python 3",
   "language": "python",
   "name": "python3"
  },
  "language_info": {
   "codemirror_mode": {
    "name": "ipython",
    "version": 3
   },
   "file_extension": ".py",
   "mimetype": "text/x-python",
   "name": "python",
   "nbconvert_exporter": "python",
   "pygments_lexer": "ipython3",
   "version": "3.7.3"
  }
 },
 "nbformat": 4,
 "nbformat_minor": 2
}
