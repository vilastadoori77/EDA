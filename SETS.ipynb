{
 "cells": [
  {
   "cell_type": "markdown",
   "metadata": {},
   "source": [
    "<h1> SETS as Datastructures </h1>\n",
    "Set is an unordered collection of items which do not repeat(Unique)\n",
    "It is usually used when we cannot remember and remove duplicates.\n",
    "Lists and Tuples have indices (poistions) and they are ordered collection of elements\n",
    "Dictonary there is no prositional property and have keys and labels with every value"
   ]
  },
  {
   "cell_type": "code",
   "execution_count": 2,
   "metadata": {},
   "outputs": [
    {
     "name": "stdout",
     "output_type": "stream",
     "text": [
      "<class 'set'>\n"
     ]
    }
   ],
   "source": [
    "students_list = ['A','A','B','B','C','D','D']\n",
    "student_set = set(students_list)\n",
    "print(student_set)"
   ]
  },
  {
   "cell_type": "code",
   "execution_count": 15,
   "metadata": {},
   "outputs": [
    {
     "name": "stdout",
     "output_type": "stream",
     "text": [
      "{1, 2, 3, 4, 5, 6}\n",
      "{2, 3, 4, 5, 6, 7, 8, 9}\n",
      "{1}\n",
      "{2, 3, 4, 5, 6}\n",
      "{1, 7, 8, 9}\n"
     ]
    }
   ],
   "source": [
    "input_list = [[1,2,3,4,5,6],[2,3,4,5,6,7,8,9]]\n",
    "list_1 = input_list[0]\n",
    "list_2 = input_list[1]\n",
    "\n",
    "set_1 = set(list_1)\n",
    "\n",
    "set_2 = set(list_2)\n",
    "\n",
    "print(set_1)\n",
    "print(set_2)\n",
    "\n",
    "answer1= set_1.difference(set_2)\n",
    "answer2= set_1.intersection(set_2)\n",
    "ans_3 = set_1.symmetric_difference(set_2)\n",
    "print(answer1)\n",
    "print(answer2)\n",
    "print(ans_3)\n"
   ]
  }
 ],
 "metadata": {
  "kernelspec": {
   "display_name": "Python 3",
   "language": "python",
   "name": "python3"
  },
  "language_info": {
   "codemirror_mode": {
    "name": "ipython",
    "version": 3
   },
   "file_extension": ".py",
   "mimetype": "text/x-python",
   "name": "python",
   "nbconvert_exporter": "python",
   "pygments_lexer": "ipython3",
   "version": "3.7.3"
  }
 },
 "nbformat": 4,
 "nbformat_minor": 2
}
