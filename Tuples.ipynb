{
 "cells": [
  {
   "cell_type": "markdown",
   "metadata": {},
   "source": [
    "# Learning Datastructure Tuples for Datascience 9-04-2019"
   ]
  },
  {
   "cell_type": "markdown",
   "metadata": {},
   "source": [
    "### Tuples are like Lists but they are immutable. Lists can be modified but Tuples cannot be modified once created. Tuple is a fixed datastructure.\n",
    "## List is a dynamic Datastructure.\n",
    "## Everything is known when tuple is created.\n",
    "## In order to change something in the tuple we need to convert the tuple into list and change the values and then convert the list back to tuple.\n",
    "List is denoted by a pair of square brackets and tuple is denoted by a pair of paranthesis."
   ]
  },
  {
   "cell_type": "code",
   "execution_count": 4,
   "metadata": {},
   "outputs": [
    {
     "name": "stdout",
     "output_type": "stream",
     "text": [
      "('Monty_Python', 'Baker Street', 5.8)\n"
     ]
    }
   ],
   "source": [
    "first_tuple = ('Monty_Python', 'Baker Street', 5.8)\n",
    "print(first_tuple)"
   ]
  },
  {
   "cell_type": "code",
   "execution_count": 5,
   "metadata": {},
   "outputs": [
    {
     "name": "stdout",
     "output_type": "stream",
     "text": [
      "('Monty_Python', 'Baker Street', 5.8)\n"
     ]
    }
   ],
   "source": [
    "add_tuple_to_new_tuple = first_tuple\n",
    "print(add_tuple_to_new_tuple)"
   ]
  },
  {
   "cell_type": "code",
   "execution_count": 6,
   "metadata": {},
   "outputs": [
    {
     "name": "stdout",
     "output_type": "stream",
     "text": [
      "Baker Street\n"
     ]
    }
   ],
   "source": [
    "print(add_tuple_to_new_tuple[1])"
   ]
  },
  {
   "cell_type": "code",
   "execution_count": 7,
   "metadata": {},
   "outputs": [
    {
     "name": "stdout",
     "output_type": "stream",
     "text": [
      "('Monty_Python',)\n"
     ]
    }
   ],
   "source": [
    "\n",
    "print(add_tuple_to_new_tuple[:1])"
   ]
  },
  {
   "cell_type": "code",
   "execution_count": 17,
   "metadata": {},
   "outputs": [
    {
     "name": "stdout",
     "output_type": "stream",
     "text": [
      "['Monty Python', 'British', 1969]\n",
      "['Monty Python', 'British', 1969, 'Python']\n",
      "('Monty Python', 'British', 1969, 'Python')\n"
     ]
    }
   ],
   "source": [
    "input_tuple = ('Monty Python', 'British', 1969)\n",
    "c = list(input_tuple)\n",
    "print(c)\n",
    "c.append('Python')\n",
    "print(c)\n",
    "c=tuple(c)\n",
    "print(c)\n",
    "\n",
    "\n"
   ]
  },
  {
   "cell_type": "code",
   "execution_count": null,
   "metadata": {},
   "outputs": [],
   "source": []
  }
 ],
 "metadata": {
  "kernelspec": {
   "display_name": "Python 3",
   "language": "python",
   "name": "python3"
  },
  "language_info": {
   "codemirror_mode": {
    "name": "ipython",
    "version": 3
   },
   "file_extension": ".py",
   "mimetype": "text/x-python",
   "name": "python",
   "nbconvert_exporter": "python",
   "pygments_lexer": "ipython3",
   "version": "3.7.3"
  }
 },
 "nbformat": 4,
 "nbformat_minor": 2
}
