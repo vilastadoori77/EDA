{
 "cells": [
  {
   "cell_type": "markdown",
   "metadata": {},
   "source": [
    "### IF ELIF ELSE Statements"
   ]
  },
  {
   "cell_type": "code",
   "execution_count": 11,
   "metadata": {},
   "outputs": [
    {
     "name": "stdout",
     "output_type": "stream",
     "text": [
      "Enter the score20\n",
      "You should have worked very hard to pass try again\n"
     ]
    }
   ],
   "source": [
    "score = int(input(\"Enter the score\"))\n",
    "passing = 40\n",
    "distinction = 90\n",
    "\n",
    "if score >= distinction:\n",
    "    print(\"great you have passed with distinction\")\n",
    "if score >=passing and score <distinction:\n",
    "    print(\"You have passed\")\n",
    "    \n",
    "if score <passing:\n",
    "    print(\"You should have worked very hard to pass try again\")\n",
    "    \n"
   ]
  },
  {
   "cell_type": "code",
   "execution_count": 17,
   "metadata": {},
   "outputs": [
    {
     "name": "stdout",
     "output_type": "stream",
     "text": [
      "Enter your score30\n",
      "you failed\n"
     ]
    }
   ],
   "source": [
    "score = int(input(\"Enter your score\"))\n",
    "passing = 40\n",
    "distinction = 90\n",
    "\n",
    "if score>=distinction:\n",
    "    print(\"great work\")\n",
    "elif score <=distinction and score >=passing:\n",
    "        print(\"you passed\")\n",
    "else:\n",
    "            print(\"you failed\")"
   ]
  },
  {
   "cell_type": "code",
   "execution_count": 21,
   "metadata": {},
   "outputs": [
    {
     "name": "stdout",
     "output_type": "stream",
     "text": [
      "Bad Review\n"
     ]
    }
   ],
   "source": [
    "statement = \"The coffee is bad\"\n",
    "if 'bad' in statement:\n",
    "    print(\"Bad Review\")\n",
    "else:\n",
    "          print(\"Good Review\")\n",
    "    "
   ]
  },
  {
   "cell_type": "code",
   "execution_count": 23,
   "metadata": {},
   "outputs": [
    {
     "name": "stdout",
     "output_type": "stream",
     "text": [
      "enter the number9\n",
      "odd\n",
      "Divisible by 3\n"
     ]
    }
   ],
   "source": [
    "number = int(input(\"enter the number\"))\n",
    "\n",
    "if number%2==0:\n",
    "    print(\"even\")\n",
    "    \n",
    "    if number%4==0:\n",
    "        print(\"Divisible by 4\")\n",
    "    else:\n",
    "        print(\"Not Divisible by 4\")\n",
    "else:\n",
    "    print(\"odd\")\n",
    "    if number%3==0:\n",
    "        print(\"Divisible by 3\")\n",
    "    else:\n",
    "        print(\"Not divisible by3\")\n",
    "    \n",
    "        "
   ]
  },
  {
   "cell_type": "code",
   "execution_count": null,
   "metadata": {},
   "outputs": [],
   "source": [
    "number = int(input(\"enter a number of your choice\"))\n",
    "if number%2==0:\n",
    "    print(\"It is an even number\")\n",
    "    if number%4==0\n",
    "    \n",
    "else:\n",
    "    print(\"It is an odd number\")"
   ]
  },
  {
   "cell_type": "code",
   "execution_count": 26,
   "metadata": {},
   "outputs": [
    {
     "name": "stdout",
     "output_type": "stream",
     "text": [
      "0\n",
      "1\n",
      "2\n"
     ]
    }
   ],
   "source": [
    "d = {0:'Fish', 1:'Dish', 2:'Crab'}\n",
    "for i in d:\n",
    " print(i)"
   ]
  },
  {
   "cell_type": "code",
   "execution_count": 27,
   "metadata": {},
   "outputs": [
    {
     "name": "stdout",
     "output_type": "stream",
     "text": [
      "None\n",
      "None\n",
      "None\n"
     ]
    }
   ],
   "source": [
    "d = {0, 1, 2}\n",
    "for i in d:\n",
    "    print(d.add(i))"
   ]
  }
 ],
 "metadata": {
  "kernelspec": {
   "display_name": "Python 3",
   "language": "python",
   "name": "python3"
  },
  "language_info": {
   "codemirror_mode": {
    "name": "ipython",
    "version": 3
   },
   "file_extension": ".py",
   "mimetype": "text/x-python",
   "name": "python",
   "nbconvert_exporter": "python",
   "pygments_lexer": "ipython3",
   "version": "3.7.3"
  }
 },
 "nbformat": 4,
 "nbformat_minor": 2
}
